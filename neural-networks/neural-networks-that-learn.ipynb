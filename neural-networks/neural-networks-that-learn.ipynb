{
 "cells": [
  {
   "cell_type": "markdown",
   "metadata": {},
   "source": [
    "# Neural networks that learn\n",
    "\n",
    "A worked example of the chapter from \"The (New) Turing Omnibus\", borrowing heavily from http://page.mi.fu-berlin.de/rojas/neural/chapter/K7.pdf"
   ]
  },
  {
   "cell_type": "markdown",
   "metadata": {},
   "source": [
    "## The neural network structure\n",
    "\n",
    "The example in the book uses a fixed number of input neurons and output neurons, with one layer of medial (hidden) neurons between them. There could be any number of hidden layers but let's run with this example..."
   ]
  },
  {
   "cell_type": "code",
   "execution_count": 19,
   "metadata": {
    "collapsed": true
   },
   "outputs": [],
   "source": [
    "%matplotlib inline\n",
    "num_input = 3\n",
    "num_output = 2\n",
    "num_medial = 150"
   ]
  },
  {
   "cell_type": "code",
   "execution_count": 20,
   "metadata": {
    "collapsed": false
   },
   "outputs": [
    {
     "data": {
      "text/plain": [
       "(150, 2)"
      ]
     },
     "execution_count": 20,
     "metadata": {},
     "output_type": "execute_result"
    }
   ],
   "source": [
    "from numpy.random import rand\n",
    "\n",
    "input_medial_synapses = rand(num_input, num_medial) * 0.1\n",
    "medial_output_synapses = rand(num_medial, num_output) * 0.1\n",
    "\n",
    "medial_output_synapses.shape"
   ]
  },
  {
   "cell_type": "markdown",
   "metadata": {},
   "source": [
    "## Utility functions\n",
    "\n",
    "These will help us train the network and measure the error."
   ]
  },
  {
   "cell_type": "code",
   "execution_count": 21,
   "metadata": {
    "collapsed": false
   },
   "outputs": [
    {
     "data": {
      "text/plain": [
       "array([ 1.        ,  3.14159265])"
      ]
     },
     "execution_count": 21,
     "metadata": {},
     "output_type": "execute_result"
    }
   ],
   "source": [
    "from numpy import array\n",
    "from math import atan2, sqrt\n",
    "\n",
    "def random_cartesian_coordinate():\n",
    "    \"\"\"\n",
    "    Randomly generate a point on the 2d plane.\n",
    "    This is simpler than generating in polar coordinates,\n",
    "    because the radial coordinate would need to be non uniform\n",
    "    to distribute over a uniform area.\n",
    "    \"\"\"\n",
    "    return rand(2,)\n",
    "\n",
    "def test_cartesian_to_polar(cart):\n",
    "    \"\"\"\n",
    "    Analytical solution for converting cartesian -> polar coordinates.\n",
    "    \"\"\"\n",
    "    x, y = cart\n",
    "    r = sqrt(x ** 2 + y ** 2)\n",
    "    theta = atan2(y, x)\n",
    "    return array([r, theta])\n",
    "\n",
    "test_cartesian_to_polar([-1, 0])"
   ]
  },
  {
   "cell_type": "markdown",
   "metadata": {},
   "source": [
    "## Activation function\n",
    "\n",
    "This is applied to the value of each neuron after summing up the inputs. It can be any sigmoid function but we're using the hyperbolic tangent."
   ]
  },
  {
   "cell_type": "code",
   "execution_count": 24,
   "metadata": {
    "collapsed": false
   },
   "outputs": [
    {
     "data": {
      "text/plain": [
       "[<matplotlib.lines.Line2D at 0x10760ccc0>]"
      ]
     },
     "execution_count": 24,
     "metadata": {},
     "output_type": "execute_result"
    },
    {
     "data": {
      "image/png": "[encoded data removed]",
      "text/plain": [
       "<matplotlib.figure.Figure at 0x106b27278>"
      ]
     },
     "metadata": {},
     "output_type": "display_data"
    }
   ],
   "source": [
    "from numpy import exp, arange\n",
    "import matplotlib.pyplot as plt\n",
    "\n",
    "def sigmoid(signal):\n",
    "    \"\"\"\n",
    "    The hyperbolic tangent\n",
    "    \"\"\"\n",
    "    return (exp(signal) - exp(-signal)) / (exp(signal) + exp(-signal))\n",
    "\n",
    "x = arange(-5, 5, 0.1);\n",
    "y = sigmoid(x)\n",
    "plt.plot(x,y)"
   ]
  },
  {
   "cell_type": "markdown",
   "metadata": {},
   "source": [
    "### Derivitive\n",
    "\n",
    "The derivitive of the sigmoid is used by the back propagation algorithm.\n",
    "\n",
    "This is $1-\\tanh^2 x$\n",
    "\n",
    "Or equivalently, $\\frac {4 e^{2x}} { (   {e ^ {2x} + 1   )  }^2}$"
   ]
  },
  {
   "cell_type": "code",
   "execution_count": 25,
   "metadata": {
    "collapsed": false
   },
   "outputs": [
    {
     "data": {
      "text/plain": [
       "[<matplotlib.lines.Line2D at 0x107666518>]"
      ]
     },
     "execution_count": 25,
     "metadata": {},
     "output_type": "execute_result"
    },
    {
     "data": {
      "image/png": "[encoded data removed]",
      "text/plain": [
       "<matplotlib.figure.Figure at 0x107615400>"
      ]
     },
     "metadata": {},
     "output_type": "display_data"
    }
   ],
   "source": [
    "def sigmoid_derivative(signal):\n",
    "    \"\"\"\n",
    "    The derivative of the hyperbolic tangent\n",
    "    \"\"\"\n",
    "    return (4 * exp(2 * signal)) / (exp(2 * signal) + 1) ** 2\n",
    "\n",
    "x = arange(-5, 5, 0.1);\n",
    "y = sigmoid_derivative(x)\n",
    "plt.plot(x,y)"
   ]
  },
  {
   "cell_type": "markdown",
   "metadata": {},
   "source": [
    "## Forward propagation"
   ]
  },
  {
   "cell_type": "code",
   "execution_count": 39,
   "metadata": {
    "collapsed": false
   },
   "outputs": [
    {
     "data": {
      "text/plain": [
       "array([-0.00547732, -0.00867121])"
      ]
     },
     "execution_count": 39,
     "metadata": {},
     "output_type": "execute_result"
    }
   ],
   "source": [
    "from numpy import dot\n",
    "\n",
    "def forward_propagate(input_signal):\n",
    "    \"\"\"\n",
    "    Run the input through the neural network\n",
    "    \"\"\"\n",
    "    medial_values = sigmoid(dot(input_signal, input_medial_synapses))\n",
    "    return medial_values, sigmoid(dot(medial_values, medial_output_synapses))\n",
    "                            \n",
    "forward_propagate(array([-1, 0, 1]))[1]"
   ]
  },
  {
   "cell_type": "markdown",
   "metadata": {},
   "source": [
    "## Error measurement\n",
    "\n",
    "For the output layer the combined error is $E = \\frac {1} {2} \\sum_j ({o_j - t_j})^2$ - this is the thing we want to minimise.\n",
    "\n",
    "$o_j$ is the actual output for node $j$ and $t_j$ is the expected output for node $j$.\n",
    "\n",
    "The factor of $\\frac {1} {2}$ doesn't matter for defining the error metric, it's just chosen to make the differentiation simpler."
   ]
  },
  {
   "cell_type": "code",
   "execution_count": 37,
   "metadata": {
    "collapsed": false
   },
   "outputs": [
    {
     "data": {
      "text/plain": [
       "array([ 0.1       ,  0.00159265])"
      ]
     },
     "execution_count": 37,
     "metadata": {},
     "output_type": "execute_result"
    }
   ],
   "source": [
    "def error(network_input, network_output):\n",
    "    return test_cartesian_to_polar(network_input) - network_output\n",
    "\n",
    "error(array([-1, 0]), array([0.9, 3.14]))"
   ]
  },
  {
   "cell_type": "markdown",
   "metadata": {},
   "source": [
    "## Finding optimal weights\n",
    "\n",
    "Consider the error function as a function of each synapse $w_{ij}$. The partial derivative of this function with respect to $w_{ij}$ tells you how much the error changes if the weight changes a small amount.\n",
    "\n",
    "We want to apply *gradient descent* - adjusting the weight a little bit to reduce its contribution to the total error:\n",
    "\n",
    "$$\\Delta w_{ij} = - \\gamma \\frac {\\delta E} {\\delta w_{ij}}$$\n",
    "\n",
    "$\\gamma$ (the learning rate) is some small number so we take tiny steps per iteration.\n",
    "\n",
    "The derivative can be found using the chain rule...\n",
    "\n",
    "## Backpropagation\n",
    "\n",
    "For the output layer, we know the error is $t_k - o_j$.\n",
    "\n",
    "This lets us change the weights connecting layers 2 & 3.\n",
    "\n",
    "To change the weights connecting layers 1 & 2, we need to back propagate the errors to layer 2.\n",
    "\n",
    "Something something chain rule multiply all the things. I am confused and made this all up.\n",
    "\n",
    "$$\\Delta w_{ij} = - \\gamma \\sum_k (t_k - o_k) \\sigma'_j w_{jk} $$\n",
    "\n",
    "Where $i$ is a node in layer 1, $j$ is a node in layer 2, $k$ are nodes in layer 3. $\\sigma'_k$ is the derivative of the activation functions, evaluated at node $k$.\n",
    "\n",
    "????"
   ]
  },
  {
   "cell_type": "code",
   "execution_count": 41,
   "metadata": {
    "collapsed": false
   },
   "outputs": [],
   "source": [
    "def back_propagate(known_input, known_output, learning_rate=0.1):\n",
    "    \"\"\"\n",
    "    Run the network forwards, then back propagate the error contributions.\n",
    "    \"\"\"\n",
    "    global input_medial_synapses, medial_output_synapses\n",
    "    \n",
    "    medial_values, output = forward_propagate(known_input)"
   ]
  }
 ],
 "metadata": {
  "kernelspec": {
   "display_name": "Python 3",
   "language": "python",
   "name": "python3"
  },
  "language_info": {
   "codemirror_mode": {
    "name": "ipython",
    "version": 3
   },
   "file_extension": ".py",
   "mimetype": "text/x-python",
   "name": "python",
   "nbconvert_exporter": "python",
   "pygments_lexer": "ipython3",
   "version": "3.5.1"
  }
 },
 "nbformat": 4,
 "nbformat_minor": 0
}
